{
 "cells": [
  {
   "cell_type": "markdown",
   "metadata": {},
   "source": [
    "# **Installing the needed Libraries**"
   ]
  },
  {
   "cell_type": "code",
   "execution_count": 1,
   "metadata": {
    "_cell_guid": "b1076dfc-b9ad-4769-8c92-a6c4dae69d19",
    "_uuid": "8f2839f25d086af736a60e9eeb907d3b93b6e0e5",
    "execution": {
     "iopub.execute_input": "2025-03-21T14:51:44.486596Z",
     "iopub.status.busy": "2025-03-21T14:51:44.486341Z",
     "iopub.status.idle": "2025-03-21T14:52:00.610388Z",
     "shell.execute_reply": "2025-03-21T14:52:00.609546Z",
     "shell.execute_reply.started": "2025-03-21T14:51:44.486574Z"
    },
    "trusted": true
   },
   "outputs": [
    {
     "name": "stdout",
     "output_type": "stream",
     "text": [
      "Collecting evaluate\n",
      "  Downloading evaluate-0.4.3-py3-none-any.whl.metadata (9.2 kB)\n",
      "Requirement already satisfied: datasets>=2.0.0 in /usr/local/lib/python3.10/dist-packages (from evaluate) (3.3.1)\n",
      "Requirement already satisfied: numpy>=1.17 in /usr/local/lib/python3.10/dist-packages (from evaluate) (1.26.4)\n",
      "Requirement already satisfied: dill in /usr/local/lib/python3.10/dist-packages (from evaluate) (0.3.8)\n",
      "Requirement already satisfied: pandas in /usr/local/lib/python3.10/dist-packages (from evaluate) (2.2.3)\n",
      "Requirement already satisfied: requests>=2.19.0 in /usr/local/lib/python3.10/dist-packages (from evaluate) (2.32.3)\n",
      "Requirement already satisfied: tqdm>=4.62.1 in /usr/local/lib/python3.10/dist-packages (from evaluate) (4.67.1)\n",
      "Requirement already satisfied: xxhash in /usr/local/lib/python3.10/dist-packages (from evaluate) (3.5.0)\n",
      "Requirement already satisfied: multiprocess in /usr/local/lib/python3.10/dist-packages (from evaluate) (0.70.16)\n",
      "Requirement already satisfied: fsspec>=2021.05.0 in /usr/local/lib/python3.10/dist-packages (from fsspec[http]>=2021.05.0->evaluate) (2024.12.0)\n",
      "Requirement already satisfied: huggingface-hub>=0.7.0 in /usr/local/lib/python3.10/dist-packages (from evaluate) (0.29.0)\n",
      "Requirement already satisfied: packaging in /usr/local/lib/python3.10/dist-packages (from evaluate) (24.2)\n",
      "Requirement already satisfied: filelock in /usr/local/lib/python3.10/dist-packages (from datasets>=2.0.0->evaluate) (3.17.0)\n",
      "Requirement already satisfied: pyarrow>=15.0.0 in /usr/local/lib/python3.10/dist-packages (from datasets>=2.0.0->evaluate) (19.0.1)\n",
      "Requirement already satisfied: aiohttp in /usr/local/lib/python3.10/dist-packages (from datasets>=2.0.0->evaluate) (3.11.12)\n",
      "Requirement already satisfied: pyyaml>=5.1 in /usr/local/lib/python3.10/dist-packages (from datasets>=2.0.0->evaluate) (6.0.2)\n",
      "Requirement already satisfied: typing-extensions>=3.7.4.3 in /usr/local/lib/python3.10/dist-packages (from huggingface-hub>=0.7.0->evaluate) (4.12.2)\n",
      "Requirement already satisfied: mkl_fft in /usr/local/lib/python3.10/dist-packages (from numpy>=1.17->evaluate) (1.3.8)\n",
      "Requirement already satisfied: mkl_random in /usr/local/lib/python3.10/dist-packages (from numpy>=1.17->evaluate) (1.2.4)\n",
      "Requirement already satisfied: mkl_umath in /usr/local/lib/python3.10/dist-packages (from numpy>=1.17->evaluate) (0.1.1)\n",
      "Requirement already satisfied: mkl in /usr/local/lib/python3.10/dist-packages (from numpy>=1.17->evaluate) (2025.0.1)\n",
      "Requirement already satisfied: tbb4py in /usr/local/lib/python3.10/dist-packages (from numpy>=1.17->evaluate) (2022.0.0)\n",
      "Requirement already satisfied: mkl-service in /usr/local/lib/python3.10/dist-packages (from numpy>=1.17->evaluate) (2.4.1)\n",
      "Requirement already satisfied: charset-normalizer<4,>=2 in /usr/local/lib/python3.10/dist-packages (from requests>=2.19.0->evaluate) (3.4.1)\n",
      "Requirement already satisfied: idna<4,>=2.5 in /usr/local/lib/python3.10/dist-packages (from requests>=2.19.0->evaluate) (3.10)\n",
      "Requirement already satisfied: urllib3<3,>=1.21.1 in /usr/local/lib/python3.10/dist-packages (from requests>=2.19.0->evaluate) (2.3.0)\n",
      "Requirement already satisfied: certifi>=2017.4.17 in /usr/local/lib/python3.10/dist-packages (from requests>=2.19.0->evaluate) (2025.1.31)\n",
      "Requirement already satisfied: python-dateutil>=2.8.2 in /usr/local/lib/python3.10/dist-packages (from pandas->evaluate) (2.9.0.post0)\n",
      "Requirement already satisfied: pytz>=2020.1 in /usr/local/lib/python3.10/dist-packages (from pandas->evaluate) (2025.1)\n",
      "Requirement already satisfied: tzdata>=2022.7 in /usr/local/lib/python3.10/dist-packages (from pandas->evaluate) (2025.1)\n",
      "Requirement already satisfied: aiohappyeyeballs>=2.3.0 in /usr/local/lib/python3.10/dist-packages (from aiohttp->datasets>=2.0.0->evaluate) (2.4.6)\n",
      "Requirement already satisfied: aiosignal>=1.1.2 in /usr/local/lib/python3.10/dist-packages (from aiohttp->datasets>=2.0.0->evaluate) (1.3.2)\n",
      "Requirement already satisfied: async-timeout<6.0,>=4.0 in /usr/local/lib/python3.10/dist-packages (from aiohttp->datasets>=2.0.0->evaluate) (5.0.1)\n",
      "Requirement already satisfied: attrs>=17.3.0 in /usr/local/lib/python3.10/dist-packages (from aiohttp->datasets>=2.0.0->evaluate) (25.1.0)\n",
      "Requirement already satisfied: frozenlist>=1.1.1 in /usr/local/lib/python3.10/dist-packages (from aiohttp->datasets>=2.0.0->evaluate) (1.5.0)\n",
      "Requirement already satisfied: multidict<7.0,>=4.5 in /usr/local/lib/python3.10/dist-packages (from aiohttp->datasets>=2.0.0->evaluate) (6.1.0)\n",
      "Requirement already satisfied: propcache>=0.2.0 in /usr/local/lib/python3.10/dist-packages (from aiohttp->datasets>=2.0.0->evaluate) (0.2.1)\n",
      "Requirement already satisfied: yarl<2.0,>=1.17.0 in /usr/local/lib/python3.10/dist-packages (from aiohttp->datasets>=2.0.0->evaluate) (1.18.3)\n",
      "Requirement already satisfied: six>=1.5 in /usr/local/lib/python3.10/dist-packages (from python-dateutil>=2.8.2->pandas->evaluate) (1.17.0)\n",
      "Requirement already satisfied: intel-openmp>=2024 in /usr/local/lib/python3.10/dist-packages (from mkl->numpy>=1.17->evaluate) (2024.2.0)\n",
      "Requirement already satisfied: tbb==2022.* in /usr/local/lib/python3.10/dist-packages (from mkl->numpy>=1.17->evaluate) (2022.0.0)\n",
      "Requirement already satisfied: tcmlib==1.* in /usr/local/lib/python3.10/dist-packages (from tbb==2022.*->mkl->numpy>=1.17->evaluate) (1.2.0)\n",
      "Requirement already satisfied: intel-cmplr-lib-rt in /usr/local/lib/python3.10/dist-packages (from mkl_umath->numpy>=1.17->evaluate) (2024.2.0)\n",
      "Requirement already satisfied: intel-cmplr-lib-ur==2024.2.0 in /usr/local/lib/python3.10/dist-packages (from intel-openmp>=2024->mkl->numpy>=1.17->evaluate) (2024.2.0)\n",
      "Downloading evaluate-0.4.3-py3-none-any.whl (84 kB)\n",
      "\u001b[2K   \u001b[90m━━━━━━━━━━━━━━━━━━━━━━━━━━━━━━━━━━━━━━━━\u001b[0m \u001b[32m84.0/84.0 kB\u001b[0m \u001b[31m3.5 MB/s\u001b[0m eta \u001b[36m0:00:00\u001b[0m\n",
      "\u001b[?25hInstalling collected packages: evaluate\n",
      "Successfully installed evaluate-0.4.3\n",
      "Collecting bitsandbytes\n",
      "  Downloading bitsandbytes-0.45.3-py3-none-manylinux_2_24_x86_64.whl.metadata (5.0 kB)\n",
      "Requirement already satisfied: torch<3,>=2.0 in /usr/local/lib/python3.10/dist-packages (from bitsandbytes) (2.5.1+cu121)\n",
      "Requirement already satisfied: numpy>=1.17 in /usr/local/lib/python3.10/dist-packages (from bitsandbytes) (1.26.4)\n",
      "Requirement already satisfied: mkl_fft in /usr/local/lib/python3.10/dist-packages (from numpy>=1.17->bitsandbytes) (1.3.8)\n",
      "Requirement already satisfied: mkl_random in /usr/local/lib/python3.10/dist-packages (from numpy>=1.17->bitsandbytes) (1.2.4)\n",
      "Requirement already satisfied: mkl_umath in /usr/local/lib/python3.10/dist-packages (from numpy>=1.17->bitsandbytes) (0.1.1)\n",
      "Requirement already satisfied: mkl in /usr/local/lib/python3.10/dist-packages (from numpy>=1.17->bitsandbytes) (2025.0.1)\n",
      "Requirement already satisfied: tbb4py in /usr/local/lib/python3.10/dist-packages (from numpy>=1.17->bitsandbytes) (2022.0.0)\n",
      "Requirement already satisfied: mkl-service in /usr/local/lib/python3.10/dist-packages (from numpy>=1.17->bitsandbytes) (2.4.1)\n",
      "Requirement already satisfied: filelock in /usr/local/lib/python3.10/dist-packages (from torch<3,>=2.0->bitsandbytes) (3.17.0)\n",
      "Requirement already satisfied: typing-extensions>=4.8.0 in /usr/local/lib/python3.10/dist-packages (from torch<3,>=2.0->bitsandbytes) (4.12.2)\n",
      "Requirement already satisfied: networkx in /usr/local/lib/python3.10/dist-packages (from torch<3,>=2.0->bitsandbytes) (3.4.2)\n",
      "Requirement already satisfied: jinja2 in /usr/local/lib/python3.10/dist-packages (from torch<3,>=2.0->bitsandbytes) (3.1.4)\n",
      "Requirement already satisfied: fsspec in /usr/local/lib/python3.10/dist-packages (from torch<3,>=2.0->bitsandbytes) (2024.12.0)\n",
      "Requirement already satisfied: sympy==1.13.1 in /usr/local/lib/python3.10/dist-packages (from torch<3,>=2.0->bitsandbytes) (1.13.1)\n",
      "Requirement already satisfied: mpmath<1.4,>=1.1.0 in /usr/local/lib/python3.10/dist-packages (from sympy==1.13.1->torch<3,>=2.0->bitsandbytes) (1.3.0)\n",
      "Requirement already satisfied: MarkupSafe>=2.0 in /usr/local/lib/python3.10/dist-packages (from jinja2->torch<3,>=2.0->bitsandbytes) (3.0.2)\n",
      "Requirement already satisfied: intel-openmp>=2024 in /usr/local/lib/python3.10/dist-packages (from mkl->numpy>=1.17->bitsandbytes) (2024.2.0)\n",
      "Requirement already satisfied: tbb==2022.* in /usr/local/lib/python3.10/dist-packages (from mkl->numpy>=1.17->bitsandbytes) (2022.0.0)\n",
      "Requirement already satisfied: tcmlib==1.* in /usr/local/lib/python3.10/dist-packages (from tbb==2022.*->mkl->numpy>=1.17->bitsandbytes) (1.2.0)\n",
      "Requirement already satisfied: intel-cmplr-lib-rt in /usr/local/lib/python3.10/dist-packages (from mkl_umath->numpy>=1.17->bitsandbytes) (2024.2.0)\n",
      "Requirement already satisfied: intel-cmplr-lib-ur==2024.2.0 in /usr/local/lib/python3.10/dist-packages (from intel-openmp>=2024->mkl->numpy>=1.17->bitsandbytes) (2024.2.0)\n",
      "Downloading bitsandbytes-0.45.3-py3-none-manylinux_2_24_x86_64.whl (76.1 MB)\n",
      "\u001b[2K   \u001b[90m━━━━━━━━━━━━━━━━━━━━━━━━━━━━━━━━━━━━━━━━\u001b[0m \u001b[32m76.1/76.1 MB\u001b[0m \u001b[31m23.0 MB/s\u001b[0m eta \u001b[36m0:00:00\u001b[0m:00:01\u001b[0m00:01\u001b[0m\n",
      "\u001b[?25hInstalling collected packages: bitsandbytes\n",
      "Successfully installed bitsandbytes-0.45.3\n",
      "Collecting rouge_score\n",
      "  Downloading rouge_score-0.1.2.tar.gz (17 kB)\n",
      "  Preparing metadata (setup.py) ... \u001b[?25l\u001b[?25hdone\n",
      "Requirement already satisfied: absl-py in /usr/local/lib/python3.10/dist-packages (from rouge_score) (1.4.0)\n",
      "Requirement already satisfied: nltk in /usr/local/lib/python3.10/dist-packages (from rouge_score) (3.2.4)\n",
      "Requirement already satisfied: numpy in /usr/local/lib/python3.10/dist-packages (from rouge_score) (1.26.4)\n",
      "Requirement already satisfied: six>=1.14.0 in /usr/local/lib/python3.10/dist-packages (from rouge_score) (1.17.0)\n",
      "Requirement already satisfied: mkl_fft in /usr/local/lib/python3.10/dist-packages (from numpy->rouge_score) (1.3.8)\n",
      "Requirement already satisfied: mkl_random in /usr/local/lib/python3.10/dist-packages (from numpy->rouge_score) (1.2.4)\n",
      "Requirement already satisfied: mkl_umath in /usr/local/lib/python3.10/dist-packages (from numpy->rouge_score) (0.1.1)\n",
      "Requirement already satisfied: mkl in /usr/local/lib/python3.10/dist-packages (from numpy->rouge_score) (2025.0.1)\n",
      "Requirement already satisfied: tbb4py in /usr/local/lib/python3.10/dist-packages (from numpy->rouge_score) (2022.0.0)\n",
      "Requirement already satisfied: mkl-service in /usr/local/lib/python3.10/dist-packages (from numpy->rouge_score) (2.4.1)\n",
      "Requirement already satisfied: intel-openmp>=2024 in /usr/local/lib/python3.10/dist-packages (from mkl->numpy->rouge_score) (2024.2.0)\n",
      "Requirement already satisfied: tbb==2022.* in /usr/local/lib/python3.10/dist-packages (from mkl->numpy->rouge_score) (2022.0.0)\n",
      "Requirement already satisfied: tcmlib==1.* in /usr/local/lib/python3.10/dist-packages (from tbb==2022.*->mkl->numpy->rouge_score) (1.2.0)\n",
      "Requirement already satisfied: intel-cmplr-lib-rt in /usr/local/lib/python3.10/dist-packages (from mkl_umath->numpy->rouge_score) (2024.2.0)\n",
      "Requirement already satisfied: intel-cmplr-lib-ur==2024.2.0 in /usr/local/lib/python3.10/dist-packages (from intel-openmp>=2024->mkl->numpy->rouge_score) (2024.2.0)\n",
      "Building wheels for collected packages: rouge_score\n",
      "  Building wheel for rouge_score (setup.py) ... \u001b[?25l\u001b[?25hdone\n",
      "  Created wheel for rouge_score: filename=rouge_score-0.1.2-py3-none-any.whl size=24935 sha256=29c4e00b242e5012d8d0c74052e77866ab7df7a0046d21c2a550c950358b7195\n",
      "  Stored in directory: /root/.cache/pip/wheels/5f/dd/89/461065a73be61a532ff8599a28e9beef17985c9e9c31e541b4\n",
      "Successfully built rouge_score\n",
      "Installing collected packages: rouge_score\n",
      "Successfully installed rouge_score-0.1.2\n"
     ]
    }
   ],
   "source": [
    "!pip install evaluate\n",
    "!pip install -U bitsandbytes\n",
    "!pip install rouge_score"
   ]
  },
  {
   "cell_type": "markdown",
   "metadata": {},
   "source": [
    "# **Imports**"
   ]
  },
  {
   "cell_type": "code",
   "execution_count": 2,
   "metadata": {
    "execution": {
     "iopub.execute_input": "2025-03-21T14:52:08.949417Z",
     "iopub.status.busy": "2025-03-21T14:52:08.949135Z",
     "iopub.status.idle": "2025-03-21T14:52:32.614709Z",
     "shell.execute_reply": "2025-03-21T14:52:32.614062Z",
     "shell.execute_reply.started": "2025-03-21T14:52:08.949396Z"
    },
    "trusted": true
   },
   "outputs": [],
   "source": [
    "import os\n",
    "import re\n",
    "import time\n",
    "import numpy as np\n",
    "import pandas as pd\n",
    "import matplotlib.pyplot as plt\n",
    "import seaborn as sns\n",
    "from wordcloud import WordCloud, STOPWORDS\n",
    "from collections import Counter\n",
    "from tqdm.notebook import tqdm\n",
    "import nltk\n",
    "from nltk.tokenize import word_tokenize\n",
    "\n",
    "import torch\n",
    "from datasets import load_dataset\n",
    "from transformers import T5Tokenizer, T5ForConditionalGeneration, Seq2SeqTrainer, Seq2SeqTrainingArguments, DataCollatorForSeq2Seq\n",
    "from peft import LoraConfig, get_peft_model, prepare_model_for_kbit_training\n",
    "import evaluate\n",
    "import torch\n",
    "import bitsandbytes as bnb\n",
    "from datasets import load_dataset\n",
    "from transformers import (\n",
    "    AutoTokenizer,\n",
    "    AutoModelForSeq2SeqLM,\n",
    "    Seq2SeqTrainer,\n",
    "    Seq2SeqTrainingArguments,\n",
    "    DataCollatorForSeq2Seq\n",
    ")\n",
    "from peft import LoraConfig, get_peft_model, prepare_model_for_kbit_training\n",
    "import nltk\n",
    "\n",
    "from torch.utils.data import DataLoader\n",
    "import torch\n",
    "\n",
    "import torch\n",
    "from datasets import load_dataset\n",
    "from transformers import BartTokenizer, BartForConditionalGeneration, Trainer, TrainingArguments, DataCollatorForSeq2Seq\n",
    "import evaluate"
   ]
  },
  {
   "cell_type": "code",
   "execution_count": 3,
   "metadata": {
    "execution": {
     "iopub.execute_input": "2025-03-21T14:52:32.616160Z",
     "iopub.status.busy": "2025-03-21T14:52:32.615594Z",
     "iopub.status.idle": "2025-03-21T14:52:32.747953Z",
     "shell.execute_reply": "2025-03-21T14:52:32.747277Z",
     "shell.execute_reply.started": "2025-03-21T14:52:32.616135Z"
    },
    "trusted": true
   },
   "outputs": [
    {
     "name": "stdout",
     "output_type": "stream",
     "text": [
      "[nltk_data] Downloading package punkt to /usr/share/nltk_data...\n",
      "[nltk_data]   Package punkt is already up-to-date!\n"
     ]
    },
    {
     "data": {
      "text/plain": [
       "True"
      ]
     },
     "execution_count": 3,
     "metadata": {},
     "output_type": "execute_result"
    }
   ],
   "source": [
    "# Download the necessary tokenizer resources\n",
    "nltk.download('punkt')"
   ]
  },
  {
   "cell_type": "code",
   "execution_count": 4,
   "metadata": {
    "execution": {
     "iopub.execute_input": "2025-03-21T14:52:32.749391Z",
     "iopub.status.busy": "2025-03-21T14:52:32.749176Z",
     "iopub.status.idle": "2025-03-21T14:52:32.757417Z",
     "shell.execute_reply": "2025-03-21T14:52:32.756611Z",
     "shell.execute_reply.started": "2025-03-21T14:52:32.749372Z"
    },
    "trusted": true
   },
   "outputs": [
    {
     "data": {
      "text/plain": [
       "<torch._C.Generator at 0x7b1cd7904db0>"
      ]
     },
     "execution_count": 4,
     "metadata": {},
     "output_type": "execute_result"
    }
   ],
   "source": [
    "# Setting a fixed seed so the results are the same every time the code runs\n",
    "SEED = 42\n",
    "torch.manual_seed(SEED)"
   ]
  },
  {
   "cell_type": "code",
   "execution_count": 5,
   "metadata": {
    "execution": {
     "iopub.execute_input": "2025-03-21T14:52:32.758687Z",
     "iopub.status.busy": "2025-03-21T14:52:32.758408Z",
     "iopub.status.idle": "2025-03-21T14:52:32.769786Z",
     "shell.execute_reply": "2025-03-21T14:52:32.769062Z",
     "shell.execute_reply.started": "2025-03-21T14:52:32.758659Z"
    },
    "trusted": true
   },
   "outputs": [
    {
     "name": "stdout",
     "output_type": "stream",
     "text": [
      "Using device: cuda\n"
     ]
    }
   ],
   "source": [
    "# Checking if the GPU is available\n",
    "device = torch.device(\"cuda\" if torch.cuda.is_available() else \"cpu\")\n",
    "print(f\"Using device: {device}\")"
   ]
  },
  {
   "cell_type": "code",
   "execution_count": 6,
   "metadata": {
    "execution": {
     "iopub.execute_input": "2025-03-21T14:52:32.770779Z",
     "iopub.status.busy": "2025-03-21T14:52:32.770544Z",
     "iopub.status.idle": "2025-03-21T14:52:32.787255Z",
     "shell.execute_reply": "2025-03-21T14:52:32.786625Z",
     "shell.execute_reply.started": "2025-03-21T14:52:32.770743Z"
    },
    "trusted": true
   },
   "outputs": [],
   "source": [
    "# Seting a plotting style for the plots\n",
    "plt.style.use('fivethirtyeight')\n",
    "sns.set(font_scale=1.2)"
   ]
  },
  {
   "cell_type": "markdown",
   "metadata": {},
   "source": [
    "# **Loading the data**"
   ]
  },
  {
   "cell_type": "code",
   "execution_count": null,
   "metadata": {
    "execution": {
     "iopub.execute_input": "2025-03-21T14:52:54.854304Z",
     "iopub.status.busy": "2025-03-21T14:52:54.853977Z",
     "iopub.status.idle": "2025-03-21T14:53:26.728063Z",
     "shell.execute_reply": "2025-03-21T14:53:26.727405Z",
     "shell.execute_reply.started": "2025-03-21T14:52:54.854278Z"
    },
    "trusted": true
   },
   "outputs": [],
   "source": [
    "dataset = load_dataset(\"csv\", data_files={\n",
    "    \"train\": \"/kaggle/input/newspaper-text-summarization-cnn-dailymail/cnn_dailymail/train.csv\",\n",
    "    \"validation\": \"/kaggle/input/newspaper-text-summarization-cnn-dailymail/cnn_dailymail/validation.csv\",\n",
    "    \"test\": \"/kaggle/input/newspaper-text-summarization-cnn-dailymail/cnn_dailymail/test.csv\"\n",
    "})"
   ]
  },
  {
   "cell_type": "code",
   "execution_count": 8,
   "metadata": {
    "execution": {
     "iopub.execute_input": "2025-03-21T14:53:26.729407Z",
     "iopub.status.busy": "2025-03-21T14:53:26.729151Z",
     "iopub.status.idle": "2025-03-21T14:53:26.733518Z",
     "shell.execute_reply": "2025-03-21T14:53:26.732673Z",
     "shell.execute_reply.started": "2025-03-21T14:53:26.729386Z"
    },
    "trusted": true
   },
   "outputs": [
    {
     "name": "stdout",
     "output_type": "stream",
     "text": [
      "DatasetDict({\n",
      "    train: Dataset({\n",
      "        features: ['id', 'article', 'highlights'],\n",
      "        num_rows: 287113\n",
      "    })\n",
      "    validation: Dataset({\n",
      "        features: ['id', 'article', 'highlights'],\n",
      "        num_rows: 13368\n",
      "    })\n",
      "    test: Dataset({\n",
      "        features: ['id', 'article', 'highlights'],\n",
      "        num_rows: 11490\n",
      "    })\n",
      "})\n"
     ]
    }
   ],
   "source": [
    "# Displaying the dataset structure\n",
    "print(dataset)"
   ]
  },
  {
   "cell_type": "code",
   "execution_count": 9,
   "metadata": {
    "execution": {
     "iopub.execute_input": "2025-03-21T14:53:26.736151Z",
     "iopub.status.busy": "2025-03-21T14:53:26.735852Z",
     "iopub.status.idle": "2025-03-21T14:53:26.767006Z",
     "shell.execute_reply": "2025-03-21T14:53:26.766258Z",
     "shell.execute_reply.started": "2025-03-21T14:53:26.736119Z"
    },
    "trusted": true
   },
   "outputs": [
    {
     "name": "stdout",
     "output_type": "stream",
     "text": [
      "{'id': '0001d1afc246a7964130f43ae940af6bc6c57f01', 'article': \"By . Associated Press . PUBLISHED: . 14:11 EST, 25 October 2013 . | . UPDATED: . 15:36 EST, 25 October 2013 . The bishop of the Fargo Catholic Diocese in North Dakota has exposed potentially hundreds of church members in Fargo, Grand Forks and Jamestown to the hepatitis A virus in late September and early October. The state Health Department has issued an advisory of exposure for anyone who attended five churches and took communion. Bishop John Folda (pictured) of the Fargo Catholic Diocese in North Dakota has exposed potentially hundreds of church members in Fargo, Grand Forks and Jamestown to the hepatitis A . State Immunization Program Manager Molly Howell says the risk is low, but officials feel it's important to alert people to the possible exposure. The diocese announced on Monday that Bishop John Folda is taking time off after being diagnosed with hepatitis A. The diocese says he contracted the infection through contaminated food while attending a conference for newly ordained bishops in Italy last month. Symptoms of hepatitis A include fever, tiredness, loss of appetite, nausea and abdominal discomfort. Fargo Catholic Diocese in North Dakota (pictured) is where the bishop is located .\", 'highlights': 'Bishop John Folda, of North Dakota, is taking time off after being diagnosed .\\nHe contracted the infection through contaminated food in Italy .\\nChurch members in Fargo, Grand Forks and Jamestown could have been exposed .'}\n",
      "=====================================================================\n",
      "{'id': '0002095e55fcbd3a2f366d9bf92a95433dc305ef', 'article': '(CNN) -- Ralph Mata was an internal affairs lieutenant for the Miami-Dade Police Department, working in the division that investigates allegations of wrongdoing by cops. Outside the office, authorities allege that the 45-year-old longtime officer worked with a drug trafficking organization to help plan a murder plot and get guns. A criminal complaint unsealed in U.S. District Court in New Jersey Tuesday accuses Mata, also known as \"The Milk Man,\" of using his role as a police officer to help the drug trafficking organization in exchange for money and gifts, including a Rolex watch. In one instance, the complaint alleges, Mata arranged to pay two assassins to kill rival drug dealers. The killers would pose as cops, pulling over their targets before shooting them, according to the complaint. \"Ultimately, the (organization) decided not to move forward with the murder plot, but Mata still received a payment for setting up the meetings,\" federal prosecutors said in a statement. The complaint also alleges that Mata used his police badge to purchase weapons for drug traffickers. Mata, according to the complaint, then used contacts at the airport to transport the weapons in his carry-on luggage on trips from Miami to the Dominican Republic. Court documents released by investigators do not specify the name of the drug trafficking organization with which Mata allegedly conspired but says the organization has been importing narcotics from places such as Ecuador and the Dominican Republic by hiding them \"inside shipping containers containing pallets of produce, including bananas.\" The organization \"has been distributing narcotics in New Jersey and elsewhere,\" the complaint says. Authorities arrested Mata on Tuesday in Miami Gardens, Florida. It was not immediately clear whether Mata has an attorney, and police officials could not be immediately reached for comment. Mata has worked for the Miami-Dade Police Department since 1992, including directing investigations in Miami Gardens and working as a lieutenant in the K-9 unit at Miami International Airport, according to the complaint. Since March 2010, he had been working in the internal affairs division. Mata faces charges of aiding and abetting a conspiracy to distribute cocaine, conspiring to distribute cocaine and engaging in monetary transactions in property derived from specified unlawful activity. He is scheduled to appear in federal court in Florida on Wednesday. If convicted, Mata could face life in prison. CNN\\'s Suzanne Presto contributed to this report.', 'highlights': 'Criminal complaint: Cop used his role to help cocaine traffickers .\\nRalph Mata, an internal affairs lieutenant, allegedly helped group get guns .\\nHe also arranged to pay two assassins in a murder plot, a complaint alleges .'}\n"
     ]
    }
   ],
   "source": [
    "# Printing some samples of the data\n",
    "print(dataset[\"train\"][0])  # Printing the first training sample\n",
    "print(\"=====================================================================\")\n",
    "print(dataset[\"train\"][1])  # Printing the second training sample"
   ]
  },
  {
   "cell_type": "code",
   "execution_count": 10,
   "metadata": {
    "execution": {
     "iopub.execute_input": "2025-03-21T14:53:26.768286Z",
     "iopub.status.busy": "2025-03-21T14:53:26.768008Z",
     "iopub.status.idle": "2025-03-21T14:53:26.783617Z",
     "shell.execute_reply": "2025-03-21T14:53:26.782970Z",
     "shell.execute_reply.started": "2025-03-21T14:53:26.768254Z"
    },
    "trusted": true
   },
   "outputs": [
    {
     "name": "stdout",
     "output_type": "stream",
     "text": [
      "{'id': '92c514c913c0bdfe25341af9fd72b29db544099b', 'article': \"Ever noticed how plane seats appear to be getting smaller and smaller? With increasing numbers of people taking to the skies, some experts are questioning if having such packed out planes is putting passengers at risk. They say that the shrinking space on aeroplanes is not only uncomfortable - it's putting our health and safety in danger. More than squabbling over the arm rest, shrinking space on planes putting our health and safety in danger? This week, a U.S consumer advisory group set up by the Department of Transportation said at a public hearing that while the government is happy to set standards for animals flying on planes, it doesn't stipulate a minimum amount of space for humans. 'In a world where animals have more rights to space and food than humans,' said Charlie Leocha, consumer representative on the committee.\\xa0'It is time that the DOT and FAA take a stand for humane treatment of passengers.' But could crowding on planes lead to more serious issues than fighting for space in the overhead lockers, crashing elbows and seat back kicking? Tests conducted by the FAA use planes with a 31 inch pitch, a standard which on some airlines has decreased . Many economy seats on United Airlines have 30 inches of room, while some airlines offer as little as 28 inches . Cynthia Corbertt, a human factors researcher with the Federal Aviation Administration, that it conducts tests on how quickly passengers can leave a plane. But these tests are conducted using planes with 31 inches between each row of seats, a standard which on some airlines has decreased, reported the Detroit News. The distance between two seats from one point on a seat to the same point on the seat behind it is known as the pitch. While most airlines stick to a pitch of 31 inches or above, some fall below this. While United Airlines has 30 inches of space, Gulf Air economy seats have between 29 and 32 inches, Air Asia offers 29 inches and Spirit Airlines offers just 28 inches. British Airways has a seat pitch of 31 inches, while easyJet has 29 inches, Thomson's short haul seat pitch is 28 inches, and Virgin Atlantic's is 30-31.\", 'highlights': 'Experts question if  packed out planes are putting passengers at risk .\\nU.S consumer advisory group says minimum space must be stipulated .\\nSafety tests conducted on planes with more leg room than airlines offer .'}\n",
      "=====================================================================\n",
      "{'id': '61df4979ac5fcc2b71be46ed6fe5a46ce7f071c3', 'article': \"Sally Forrest, an actress-dancer who graced the silver screen throughout the '40s and '50s in MGM musicals and films such as the 1956 noir While the City Sleeps died on March 15 at her home in Beverly Hills, California. Forrest, whose birth name was Katherine Feeney, was 86 and had long battled cancer. Her publicist, Judith Goffin, announced the news Thursday. Scroll down for video . Actress: Sally Forrest was in the 1951 Ida Lupino-directed film 'Hard, Fast and Beautiful' (left) and the 1956 Fritz Lang movie 'While the City Sleeps' A San Diego native, Forrest became a protege of Hollywood trailblazer Ida Lupino, who cast her in starring roles in films including the critical and commercial success Not Wanted, Never Fear and Hard, Fast and Beautiful. Some of Forrest's other film credits included Bannerline, Son of Sinbad, and Excuse My Dust, according to her iMDB\\xa0page. The page also indicates Forrest was in multiple Climax! and Rawhide television episodes. Forrest appeared as herself in an episode of The Ed Sullivan Show and three episodes of The Dinah Shore Chevy Show, her iMDB page says. She also starred in a Broadway production of The Seven Year Itch. City News Service reported that other stage credits included As You Like It, No, No, Nanette and Damn Yankees. Forrest married writer-producer Milo Frank in 1951. He died in 2004. She is survived by her niece, Sharon Durham, and nephews, Michael and Mark Feeney. Career: A San Diego native, Forrest became a protege of Hollywood trailblazer Ida Lupino, who cast her in starring roles in films .\", 'highlights': \"Sally Forrest, an actress-dancer who graced the silver screen throughout the '40s and '50s in MGM musicals and films died on March 15 .\\nForrest, whose birth name was Katherine Feeney, had long battled cancer .\\nA San Diego native, Forrest became a protege of Hollywood trailblazer Ida Lupino, who cast her in starring roles in films .\"}\n"
     ]
    }
   ],
   "source": [
    "# Printing some samples\n",
    "print(dataset[\"test\"][0])  # Printing the first test sample\n",
    "print(\"=====================================================================\")\n",
    "print(dataset[\"validation\"][0])  # Printing the first validation sample"
   ]
  },
  {
   "cell_type": "markdown",
   "metadata": {},
   "source": [
    "# Checking the  null values"
   ]
  },
  {
   "cell_type": "code",
   "execution_count": 11,
   "metadata": {
    "execution": {
     "iopub.execute_input": "2025-03-21T14:53:26.784531Z",
     "iopub.status.busy": "2025-03-21T14:53:26.784289Z",
     "iopub.status.idle": "2025-03-21T14:53:41.420035Z",
     "shell.execute_reply": "2025-03-21T14:53:41.419163Z",
     "shell.execute_reply.started": "2025-03-21T14:53:26.784511Z"
    },
    "trusted": true
   },
   "outputs": [
    {
     "data": {
      "text/plain": [
       "id            0\n",
       "article       0\n",
       "highlights    0\n",
       "dtype: int64"
      ]
     },
     "execution_count": 11,
     "metadata": {},
     "output_type": "execute_result"
    }
   ],
   "source": [
    "# Loading the train dataset using pandas to check the nulls\n",
    "train_df = pd.read_csv(\"/kaggle/input/newspaper-text-summarization-cnn-dailymail/cnn_dailymail/train.csv\")\n",
    "train_df.isna().sum()"
   ]
  },
  {
   "cell_type": "code",
   "execution_count": 12,
   "metadata": {
    "execution": {
     "iopub.execute_input": "2025-03-21T14:53:41.421141Z",
     "iopub.status.busy": "2025-03-21T14:53:41.420897Z",
     "iopub.status.idle": "2025-03-21T14:53:42.089419Z",
     "shell.execute_reply": "2025-03-21T14:53:42.088638Z",
     "shell.execute_reply.started": "2025-03-21T14:53:41.421121Z"
    },
    "trusted": true
   },
   "outputs": [
    {
     "data": {
      "text/plain": [
       "id            0\n",
       "article       0\n",
       "highlights    0\n",
       "dtype: int64"
      ]
     },
     "execution_count": 12,
     "metadata": {},
     "output_type": "execute_result"
    }
   ],
   "source": [
    "# Loading the validation dataset using pandas to check the nulls\n",
    "valid_df = pd.read_csv(\"/kaggle/input/newspaper-text-summarization-cnn-dailymail/cnn_dailymail/validation.csv\")\n",
    "valid_df.isna().sum()"
   ]
  },
  {
   "cell_type": "markdown",
   "metadata": {},
   "source": [
    "# Checking the duplicates"
   ]
  },
  {
   "cell_type": "code",
   "execution_count": 13,
   "metadata": {
    "execution": {
     "iopub.execute_input": "2025-03-21T14:53:42.090530Z",
     "iopub.status.busy": "2025-03-21T14:53:42.090261Z",
     "iopub.status.idle": "2025-03-21T14:53:46.098114Z",
     "shell.execute_reply": "2025-03-21T14:53:46.097380Z",
     "shell.execute_reply.started": "2025-03-21T14:53:42.090508Z"
    },
    "trusted": true
   },
   "outputs": [
    {
     "data": {
      "text/plain": [
       "0"
      ]
     },
     "execution_count": 13,
     "metadata": {},
     "output_type": "execute_result"
    }
   ],
   "source": [
    "train_df.duplicated().sum()"
   ]
  },
  {
   "cell_type": "markdown",
   "metadata": {},
   "source": [
    "# Observation:\n",
    "### There is no nulls or duplicates in the dataset,so the data is clean and ready for analysis.\n",
    "-----------------------------------------"
   ]
  },
  {
   "cell_type": "markdown",
   "metadata": {},
   "source": [
    "# **Visualizations**\n",
    "### Plotting the distribution of the length of the text in the articles and their summaries by using a histogram"
   ]
  },
  {
   "cell_type": "code",
   "execution_count": 14,
   "metadata": {
    "execution": {
     "iopub.execute_input": "2025-03-21T14:53:51.385135Z",
     "iopub.status.busy": "2025-03-21T14:53:51.384837Z",
     "iopub.status.idle": "2025-03-21T14:54:08.758579Z",
     "shell.execute_reply": "2025-03-21T14:54:08.757652Z",
     "shell.execute_reply.started": "2025-03-21T14:53:51.385113Z"
    },
    "trusted": true
   },
   "outputs": [
    {
     "name": "stderr",
     "output_type": "stream",
     "text": [
      "/usr/local/lib/python3.10/dist-packages/seaborn/_oldcore.py:1119: FutureWarning: use_inf_as_na option is deprecated and will be removed in a future version. Convert inf values to NaN before operating instead.\n",
      "  with pd.option_context('mode.use_inf_as_na', True):\n",
      "/usr/local/lib/python3.10/dist-packages/seaborn/_oldcore.py:1119: FutureWarning: use_inf_as_na option is deprecated and will be removed in a future version. Convert inf values to NaN before operating instead.\n",
      "  with pd.option_context('mode.use_inf_as_na', True):\n"
     ]
    },
    {
     "data": {
      "image/png": "[encoded data removed]",
      "text/plain": [
       "<Figure size 1200x500 with 1 Axes>"
      ]
     },
     "metadata": {},
     "output_type": "display_data"
    }
   ],
   "source": [
    "# Checking the article and the summaries length distribution\n",
    "article_lengths = [len(article.split()) for article in dataset[\"train\"][\"article\"]]\n",
    "summary_lengths = [len(summary.split()) for summary in dataset[\"train\"][\"highlights\"]]\n",
    "\n",
    "plt.figure(figsize=(12, 5))\n",
    "sns.histplot(article_lengths, bins=100, kde=True, label=\"Articles\", color=\"blue\")\n",
    "sns.histplot(summary_lengths, bins=100, kde=True, label=\"Summaries\", color=\"orange\")\n",
    "plt.legend()\n",
    "plt.title(\"Text Length Distribution\")\n",
    "plt.xlabel(\"Number of Words\")\n",
    "plt.ylabel(\"Frequency\")\n",
    "plt.show()"
   ]
  },
  {
   "cell_type": "code",
   "execution_count": 15,
   "metadata": {
    "execution": {
     "iopub.execute_input": "2025-03-21T14:54:08.760044Z",
     "iopub.status.busy": "2025-03-21T14:54:08.759739Z",
     "iopub.status.idle": "2025-03-21T14:54:11.603214Z",
     "shell.execute_reply": "2025-03-21T14:54:11.602402Z",
     "shell.execute_reply.started": "2025-03-21T14:54:08.760022Z"
    },
    "trusted": true
   },
   "outputs": [
    {
     "name": "stderr",
     "output_type": "stream",
     "text": [
      "/usr/local/lib/python3.10/dist-packages/seaborn/_oldcore.py:1119: FutureWarning: use_inf_as_na option is deprecated and will be removed in a future version. Convert inf values to NaN before operating instead.\n",
      "  with pd.option_context('mode.use_inf_as_na', True):\n",
      "/usr/local/lib/python3.10/dist-packages/seaborn/_oldcore.py:1119: FutureWarning: use_inf_as_na option is deprecated and will be removed in a future version. Convert inf values to NaN before operating instead.\n",
      "  with pd.option_context('mode.use_inf_as_na', True):\n"
     ]
    },
    {
     "data": {
      "image/png": "[encoded data removed]",
      "text/plain": [
       "<Figure size 1200x1000 with 2 Axes>"
      ]
     },
     "metadata": {},
     "output_type": "display_data"
    }
   ],
   "source": [
    "# Defining the figure and the subplots\n",
    "fig, axes = plt.subplots(2, 1, figsize=(12, 10), sharex=True)\n",
    "\n",
    "# Plotring the article length distribution\n",
    "sns.histplot(article_lengths, bins=100, kde=True, color=\"blue\", ax=axes[0])\n",
    "axes[0].set_title(\"Article Length Distribution\")\n",
    "axes[0].set_xlabel(\"Number of Words\")\n",
    "axes[0].set_ylabel(\"Frequency\")\n",
    "\n",
    "# Plotting the summary length distribution\n",
    "sns.histplot(summary_lengths, bins=100, kde=True, color=\"orange\", ax=axes[1])\n",
    "axes[1].set_title(\"Summary Length Distribution\")\n",
    "axes[1].set_xlabel(\"Number of Words\")\n",
    "axes[1].set_ylabel(\"Frequency\")\n",
    "\n",
    "plt.tight_layout()\n",
    "plt.show()"
   ]
  },
  {
   "cell_type": "markdown",
   "metadata": {},
   "source": [
    " ## Printing the article and summary lengths"
   ]
  },
  {
   "cell_type": "code",
   "execution_count": 16,
   "metadata": {
    "execution": {
     "iopub.execute_input": "2025-03-21T14:54:11.605154Z",
     "iopub.status.busy": "2025-03-21T14:54:11.604917Z",
     "iopub.status.idle": "2025-03-21T14:54:11.609690Z",
     "shell.execute_reply": "2025-03-21T14:54:11.608851Z",
     "shell.execute_reply.started": "2025-03-21T14:54:11.605135Z"
    },
    "trusted": true
   },
   "outputs": [],
   "source": [
    "# Function to print the distribution of the article and summaries\n",
    "def print_distribution_stats(lengths, text_type):\n",
    "    print(f\"{text_type} Length Distribution:\")\n",
    "    print(f\"- Minimum: {np.min(lengths)} words\")\n",
    "    print(f\"- Maximum: {np.max(lengths)} words\")\n",
    "    print(f\"- Mean: {np.mean(lengths):.2f} words\")\n",
    "    print(f\"- Median: {np.median(lengths)} words\")\n",
    "    print(f\"- 25th percentile: {np.percentile(lengths, 25)} words\")\n",
    "    print(f\"- 75th percentile: {np.percentile(lengths, 75)} words\")\n",
    "    print(f\"- 90th percentile: {np.percentile(lengths, 90)} words\")\n",
    "    print(\"-\" * 50)"
   ]
  },
  {
   "cell_type": "code",
   "execution_count": 17,
   "metadata": {
    "execution": {
     "iopub.execute_input": "2025-03-21T14:54:11.610967Z",
     "iopub.status.busy": "2025-03-21T14:54:11.610652Z",
     "iopub.status.idle": "2025-03-21T14:54:25.550660Z",
     "shell.execute_reply": "2025-03-21T14:54:25.549788Z",
     "shell.execute_reply.started": "2025-03-21T14:54:11.610937Z"
    },
    "trusted": true
   },
   "outputs": [
    {
     "name": "stdout",
     "output_type": "stream",
     "text": [
      "Training Distribution\n",
      "\n",
      "Article Length Distribution:\n",
      "- Minimum: 8 words\n",
      "- Maximum: 2347 words\n",
      "- Mean: 691.87 words\n",
      "- Median: 632.0 words\n",
      "- 25th percentile: 443.0 words\n",
      "- 75th percentile: 877.0 words\n",
      "- 90th percentile: 1166.0 words\n",
      "--------------------------------------------------\n",
      "Summary Length Distribution:\n",
      "- Minimum: 4 words\n",
      "- Maximum: 1296 words\n",
      "- Mean: 51.57 words\n",
      "- Median: 48.0 words\n",
      "- 25th percentile: 38.0 words\n",
      "- 75th percentile: 60.0 words\n",
      "- 90th percentile: 77.0 words\n",
      "--------------------------------------------------\n"
     ]
    }
   ],
   "source": [
    "# Calculating the article and summary lengths in the Training set\n",
    "article_lengths = [len(article.split()) for article in dataset[\"train\"][\"article\"]]\n",
    "summary_lengths = [len(summary.split()) for summary in dataset[\"train\"][\"highlights\"]]\n",
    "# Print stats for articles and summaries\n",
    "print (\"Training Distribution\\n\")\n",
    "print_distribution_stats(article_lengths, \"Article\")\n",
    "print_distribution_stats(summary_lengths, \"Summary\")"
   ]
  },
  {
   "cell_type": "markdown",
   "metadata": {},
   "source": [
    "## Analysis:\n",
    "#### Since most of the articles are falling within the range of 632–1166 words,we can set the Max Article Length to be 1200 tokens/words to match the dataset's 90th percentile (1166 words)\n",
    "---------------------------------\n",
    "#### Also for the summaries, since 90% of summaries are <= 77 words, we can set the Max Summary Length to be 80 tokens\t"
   ]
  },
  {
   "cell_type": "code",
   "execution_count": 18,
   "metadata": {
    "execution": {
     "iopub.execute_input": "2025-03-21T14:54:28.769672Z",
     "iopub.status.busy": "2025-03-21T14:54:28.769329Z",
     "iopub.status.idle": "2025-03-21T14:54:29.445903Z",
     "shell.execute_reply": "2025-03-21T14:54:29.445174Z",
     "shell.execute_reply.started": "2025-03-21T14:54:28.769641Z"
    },
    "trusted": true
   },
   "outputs": [
    {
     "name": "stdout",
     "output_type": "stream",
     "text": [
      "Validation Distribution\n",
      "\n",
      "Article Length Distribution:\n",
      "- Minimum: 41 words\n",
      "- Maximum: 1917 words\n",
      "- Mean: 676.03 words\n",
      "- Median: 608.0 words\n",
      "- 25th percentile: 413.75 words\n",
      "- 75th percentile: 868.0 words\n",
      "- 90th percentile: 1168.0 words\n",
      "--------------------------------------------------\n",
      "Summary Length Distribution:\n",
      "- Minimum: 10 words\n",
      "- Maximum: 1440 words\n",
      "- Mean: 57.91 words\n",
      "- Median: 54.0 words\n",
      "- 25th percentile: 41.0 words\n",
      "- 75th percentile: 69.0 words\n",
      "- 90th percentile: 87.0 words\n",
      "--------------------------------------------------\n"
     ]
    }
   ],
   "source": [
    "# Calculating the article and summary lengths in the Validation set\n",
    "article_lengths = [len(article.split()) for article in dataset[\"validation\"][\"article\"]]\n",
    "summary_lengths = [len(summary.split()) for summary in dataset[\"validation\"][\"highlights\"]]\n",
    "# Print stats for articles and summaries\n",
    "print (\"Validation Distribution\\n\")\n",
    "print_distribution_stats(article_lengths, \"Article\")\n",
    "print_distribution_stats(summary_lengths, \"Summary\")"
   ]
  },
  {
   "cell_type": "markdown",
   "metadata": {},
   "source": [
    "# Creating a function for the tokenization"
   ]
  },
  {
   "cell_type": "code",
   "execution_count": 19,
   "metadata": {
    "execution": {
     "iopub.execute_input": "2025-03-21T14:54:33.230506Z",
     "iopub.status.busy": "2025-03-21T14:54:33.230178Z",
     "iopub.status.idle": "2025-03-21T14:54:33.236012Z",
     "shell.execute_reply": "2025-03-21T14:54:33.234962Z",
     "shell.execute_reply.started": "2025-03-21T14:54:33.230478Z"
    },
    "trusted": true
   },
   "outputs": [],
   "source": [
    "def prepare_data(tokenizer, max_input_length=1200, max_target_length=80):\n",
    "    \"\"\"Tokenizes the dataset for T5 model.\"\"\"\n",
    "\n",
    "    # Tokenization function\n",
    "    def tokenize_fn(example):\n",
    "        inputs = tokenizer(\n",
    "            example[\"article\"], # The articles\n",
    "            max_length=max_input_length, \n",
    "            padding=\"max_length\", \n",
    "            truncation=True\n",
    "        )\n",
    "        targets = tokenizer(\n",
    "            example[\"highlights\"],  # The summaries\n",
    "            max_length=max_target_length, \n",
    "            padding=\"max_length\", \n",
    "            truncation=True\n",
    "        )\n",
    "\n",
    "        inputs[\"labels\"] = targets[\"input_ids\"]\n",
    "        return inputs\n",
    "\n",
    "    # Tokenize datasets\n",
    "    tokenized_datasets = dataset.map(\n",
    "        tokenize_fn, \n",
    "        batched=True, \n",
    "        num_proc=1, \n",
    "        remove_columns=[\"article\", \"highlights\"]\n",
    "    )\n",
    "\n",
    "    # Convert format for PyTorch\n",
    "    tokenized_datasets.set_format(type=\"torch\", columns=[\"input_ids\", \"attention_mask\", \"labels\"])\n",
    "\n",
    "    return tokenized_datasets[\"train\"], tokenized_datasets[\"validation\"], tokenized_datasets[\"test\"]"
   ]
  },
  {
   "cell_type": "markdown",
   "metadata": {},
   "source": [
    "# Creating our model"
   ]
  },
  {
   "cell_type": "code",
   "execution_count": 20,
   "metadata": {
    "execution": {
     "iopub.execute_input": "2025-03-21T14:54:37.974512Z",
     "iopub.status.busy": "2025-03-21T14:54:37.974232Z",
     "iopub.status.idle": "2025-03-21T15:21:20.548580Z",
     "shell.execute_reply": "2025-03-21T15:21:20.547848Z",
     "shell.execute_reply.started": "2025-03-21T14:54:37.974492Z"
    },
    "trusted": true
   },
   "outputs": [
    {
     "data": {
      "application/vnd.jupyter.widget-view+json": {
       "model_id": "7fedecc75ab74fe2917d89b7a880a4f3",
       "version_major": 2,
       "version_minor": 0
      },
      "text/plain": [
       "tokenizer_config.json:   0%|          | 0.00/2.32k [00:00<?, ?B/s]"
      ]
     },
     "metadata": {},
     "output_type": "display_data"
    },
    {
     "data": {
      "application/vnd.jupyter.widget-view+json": {
       "model_id": "d50542e7e2054074942b263705926297",
       "version_major": 2,
       "version_minor": 0
      },
      "text/plain": [
       "spiece.model:   0%|          | 0.00/792k [00:00<?, ?B/s]"
      ]
     },
     "metadata": {},
     "output_type": "display_data"
    },
    {
     "data": {
      "application/vnd.jupyter.widget-view+json": {
       "model_id": "82b450bcd3b54ae18a4ff99893f642d8",
       "version_major": 2,
       "version_minor": 0
      },
      "text/plain": [
       "tokenizer.json:   0%|          | 0.00/1.39M [00:00<?, ?B/s]"
      ]
     },
     "metadata": {},
     "output_type": "display_data"
    },
    {
     "name": "stderr",
     "output_type": "stream",
     "text": [
      "You are using the default legacy behaviour of the <class 'transformers.models.t5.tokenization_t5.T5Tokenizer'>. This is expected, and simply means that the `legacy` (previous) behavior will be used so nothing changes for you. If you want to use the new behaviour, set `legacy=False`. This should only be set if you understand what it means, and thoroughly read the reason why this was added as explained in https://github.com/huggingface/transformers/pull/24565\n"
     ]
    },
    {
     "data": {
      "application/vnd.jupyter.widget-view+json": {
       "model_id": "2660d06261424cea8eb519887bedb5ce",
       "version_major": 2,
       "version_minor": 0
      },
      "text/plain": [
       "Map:   0%|          | 0/287113 [00:00<?, ? examples/s]"
      ]
     },
     "metadata": {},
     "output_type": "display_data"
    },
    {
     "data": {
      "application/vnd.jupyter.widget-view+json": {
       "model_id": "9dae719acde347c2b7be3151df57cf94",
       "version_major": 2,
       "version_minor": 0
      },
      "text/plain": [
       "Map:   0%|          | 0/13368 [00:00<?, ? examples/s]"
      ]
     },
     "metadata": {},
     "output_type": "display_data"
    },
    {
     "data": {
      "application/vnd.jupyter.widget-view+json": {
       "model_id": "853df9761bc64ade9712723d9f8ba2d9",
       "version_major": 2,
       "version_minor": 0
      },
      "text/plain": [
       "Map:   0%|          | 0/11490 [00:00<?, ? examples/s]"
      ]
     },
     "metadata": {},
     "output_type": "display_data"
    }
   ],
   "source": [
    "# Loading the model and the tokenizer\n",
    "model_name = \"t5-small\" \n",
    "tokenizer = T5Tokenizer.from_pretrained(model_name)\n",
    "train_dataset, val_dataset, test_dataset = prepare_data(tokenizer) # Preparing the training, validation, and the test datasets"
   ]
  },
  {
   "cell_type": "code",
   "execution_count": 21,
   "metadata": {
    "execution": {
     "iopub.execute_input": "2025-03-21T15:37:45.184651Z",
     "iopub.status.busy": "2025-03-21T15:37:45.184365Z",
     "iopub.status.idle": "2025-03-21T15:37:47.748142Z",
     "shell.execute_reply": "2025-03-21T15:37:47.747494Z",
     "shell.execute_reply.started": "2025-03-21T15:37:45.184626Z"
    },
    "trusted": true
   },
   "outputs": [
    {
     "data": {
      "application/vnd.jupyter.widget-view+json": {
       "model_id": "400a86a5138840b8bec57eb9f6d395a8",
       "version_major": 2,
       "version_minor": 0
      },
      "text/plain": [
       "config.json:   0%|          | 0.00/1.21k [00:00<?, ?B/s]"
      ]
     },
     "metadata": {},
     "output_type": "display_data"
    },
    {
     "name": "stderr",
     "output_type": "stream",
     "text": [
      "The `load_in_4bit` and `load_in_8bit` arguments are deprecated and will be removed in the future versions. Please, pass a `BitsAndBytesConfig` object in `quantization_config` argument instead.\n"
     ]
    },
    {
     "data": {
      "application/vnd.jupyter.widget-view+json": {
       "model_id": "973fba07fc2f465cbb88ec917c28d33c",
       "version_major": 2,
       "version_minor": 0
      },
      "text/plain": [
       "model.safetensors:   0%|          | 0.00/242M [00:00<?, ?B/s]"
      ]
     },
     "metadata": {},
     "output_type": "display_data"
    },
    {
     "data": {
      "application/vnd.jupyter.widget-view+json": {
       "model_id": "5263d89b605646afb76595ac95392f00",
       "version_major": 2,
       "version_minor": 0
      },
      "text/plain": [
       "generation_config.json:   0%|          | 0.00/147 [00:00<?, ?B/s]"
      ]
     },
     "metadata": {},
     "output_type": "display_data"
    }
   ],
   "source": [
    "# Loading the model with the QLoRA fine-tuning\n",
    "model = T5ForConditionalGeneration.from_pretrained(\n",
    "    model_name,\n",
    "    load_in_4bit=True, # Loading the model in 4-bit precision for memory efficiency\n",
    "    device_map=\"auto\",\n",
    "    torch_dtype=torch.float16 \n",
    ")\n",
    "# Preparing the model for the low-bit training (QLoRA)\n",
    "model = prepare_model_for_kbit_training(model)\n",
    "\n",
    "# The LoRA configuration\n",
    "lora_config = LoraConfig(\n",
    "    r=64,\n",
    "    lora_alpha=16,\n",
    "    lora_dropout=0.05,\n",
    "    bias=\"none\",\n",
    "    task_type=\"SEQ_2_SEQ_LM\",\n",
    "    target_modules=[\"q\", \"v\"]\n",
    ")\n",
    "model = get_peft_model(model, lora_config) # Applying the LoRA to the model"
   ]
  },
  {
   "cell_type": "code",
   "execution_count": 22,
   "metadata": {
    "execution": {
     "iopub.execute_input": "2025-03-21T15:37:52.570673Z",
     "iopub.status.busy": "2025-03-21T15:37:52.570385Z",
     "iopub.status.idle": "2025-03-21T15:37:52.599093Z",
     "shell.execute_reply": "2025-03-21T15:37:52.598184Z",
     "shell.execute_reply.started": "2025-03-21T15:37:52.570649Z"
    },
    "trusted": true
   },
   "outputs": [
    {
     "name": "stderr",
     "output_type": "stream",
     "text": [
      "/usr/local/lib/python3.10/dist-packages/transformers/training_args.py:1575: FutureWarning: `evaluation_strategy` is deprecated and will be removed in version 4.46 of 🤗 Transformers. Use `eval_strategy` instead\n",
      "  warnings.warn(\n"
     ]
    }
   ],
   "source": [
    "# Defining the Training Arguments\n",
    "training_args = Seq2SeqTrainingArguments(\n",
    "    output_dir=\"t5-qlora-checkpoints\",\n",
    "    evaluation_strategy=\"steps\",\n",
    "    learning_rate=2e-4,\n",
    "    max_steps=1000,\n",
    "    logging_steps=50,\n",
    "    eval_steps=100,\n",
    "    save_steps=200,\n",
    "    per_device_train_batch_size=4,\n",
    "    per_device_eval_batch_size=4,\n",
    "    gradient_accumulation_steps=4,\n",
    "    fp16=True,\n",
    "    optim=\"paged_adamw_8bit\",\n",
    "    report_to=\"none\",\n",
    "    predict_with_generate=True\n",
    ")"
   ]
  },
  {
   "cell_type": "code",
   "execution_count": 23,
   "metadata": {
    "execution": {
     "iopub.execute_input": "2025-03-21T15:38:13.815199Z",
     "iopub.status.busy": "2025-03-21T15:38:13.814906Z",
     "iopub.status.idle": "2025-03-21T17:12:07.803747Z",
     "shell.execute_reply": "2025-03-21T17:12:07.803023Z",
     "shell.execute_reply.started": "2025-03-21T15:38:13.815177Z"
    },
    "trusted": true
   },
   "outputs": [
    {
     "name": "stderr",
     "output_type": "stream",
     "text": [
      "/usr/local/lib/python3.10/dist-packages/transformers/data/data_collator.py:657: UserWarning: Creating a tensor from a list of numpy.ndarrays is extremely slow. Please consider converting the list to a single numpy.ndarray with numpy.array() before converting to a tensor. (Triggered internally at ../torch/csrc/utils/tensor_new.cpp:278.)\n",
      "  batch[\"labels\"] = torch.tensor(batch[\"labels\"], dtype=torch.int64)\n",
      "/usr/local/lib/python3.10/dist-packages/torch/_dynamo/eval_frame.py:632: UserWarning: torch.utils.checkpoint: the use_reentrant parameter should be passed explicitly. In version 2.5 we will raise an exception if use_reentrant is not passed. use_reentrant=False is recommended, but if you need to preserve the current default behavior, you can pass use_reentrant=True. Refer to docs for more details on the differences between the two variants.\n",
      "  return fn(*args, **kwargs)\n",
      "/usr/local/lib/python3.10/dist-packages/bitsandbytes/nn/modules.py:451: UserWarning: Input type into Linear4bit is torch.float16, but bnb_4bit_compute_dtype=torch.float32 (default). This will lead to slow inference or training speed.\n",
      "  warnings.warn(\n",
      "/usr/local/lib/python3.10/dist-packages/torch/_dynamo/eval_frame.py:632: UserWarning: torch.utils.checkpoint: the use_reentrant parameter should be passed explicitly. In version 2.5 we will raise an exception if use_reentrant is not passed. use_reentrant=False is recommended, but if you need to preserve the current default behavior, you can pass use_reentrant=True. Refer to docs for more details on the differences between the two variants.\n",
      "  return fn(*args, **kwargs)\n",
      "/usr/local/lib/python3.10/dist-packages/torch/_dynamo/eval_frame.py:632: UserWarning: torch.utils.checkpoint: the use_reentrant parameter should be passed explicitly. In version 2.5 we will raise an exception if use_reentrant is not passed. use_reentrant=False is recommended, but if you need to preserve the current default behavior, you can pass use_reentrant=True. Refer to docs for more details on the differences between the two variants.\n",
      "  return fn(*args, **kwargs)\n",
      "/usr/local/lib/python3.10/dist-packages/torch/_dynamo/eval_frame.py:632: UserWarning: torch.utils.checkpoint: the use_reentrant parameter should be passed explicitly. In version 2.5 we will raise an exception if use_reentrant is not passed. use_reentrant=False is recommended, but if you need to preserve the current default behavior, you can pass use_reentrant=True. Refer to docs for more details on the differences between the two variants.\n",
      "  return fn(*args, **kwargs)\n",
      "/usr/local/lib/python3.10/dist-packages/torch/_dynamo/eval_frame.py:632: UserWarning: torch.utils.checkpoint: the use_reentrant parameter should be passed explicitly. In version 2.5 we will raise an exception if use_reentrant is not passed. use_reentrant=False is recommended, but if you need to preserve the current default behavior, you can pass use_reentrant=True. Refer to docs for more details on the differences between the two variants.\n",
      "  return fn(*args, **kwargs)\n",
      "/usr/local/lib/python3.10/dist-packages/torch/_dynamo/eval_frame.py:632: UserWarning: torch.utils.checkpoint: the use_reentrant parameter should be passed explicitly. In version 2.5 we will raise an exception if use_reentrant is not passed. use_reentrant=False is recommended, but if you need to preserve the current default behavior, you can pass use_reentrant=True. Refer to docs for more details on the differences between the two variants.\n",
      "  return fn(*args, **kwargs)\n",
      "`use_cache=True` is incompatible with gradient checkpointing. Setting `use_cache=False`...\n",
      "/usr/local/lib/python3.10/dist-packages/torch/_dynamo/eval_frame.py:632: UserWarning: torch.utils.checkpoint: the use_reentrant parameter should be passed explicitly. In version 2.5 we will raise an exception if use_reentrant is not passed. use_reentrant=False is recommended, but if you need to preserve the current default behavior, you can pass use_reentrant=True. Refer to docs for more details on the differences between the two variants.\n",
      "  return fn(*args, **kwargs)\n",
      "/usr/local/lib/python3.10/dist-packages/torch/_dynamo/eval_frame.py:632: UserWarning: torch.utils.checkpoint: the use_reentrant parameter should be passed explicitly. In version 2.5 we will raise an exception if use_reentrant is not passed. use_reentrant=False is recommended, but if you need to preserve the current default behavior, you can pass use_reentrant=True. Refer to docs for more details on the differences between the two variants.\n",
      "  return fn(*args, **kwargs)\n",
      "/usr/local/lib/python3.10/dist-packages/torch/_dynamo/eval_frame.py:632: UserWarning: torch.utils.checkpoint: the use_reentrant parameter should be passed explicitly. In version 2.5 we will raise an exception if use_reentrant is not passed. use_reentrant=False is recommended, but if you need to preserve the current default behavior, you can pass use_reentrant=True. Refer to docs for more details on the differences between the two variants.\n",
      "  return fn(*args, **kwargs)\n",
      "/usr/local/lib/python3.10/dist-packages/torch/_dynamo/eval_frame.py:632: UserWarning: torch.utils.checkpoint: the use_reentrant parameter should be passed explicitly. In version 2.5 we will raise an exception if use_reentrant is not passed. use_reentrant=False is recommended, but if you need to preserve the current default behavior, you can pass use_reentrant=True. Refer to docs for more details on the differences between the two variants.\n",
      "  return fn(*args, **kwargs)\n",
      "/usr/local/lib/python3.10/dist-packages/torch/_dynamo/eval_frame.py:632: UserWarning: torch.utils.checkpoint: the use_reentrant parameter should be passed explicitly. In version 2.5 we will raise an exception if use_reentrant is not passed. use_reentrant=False is recommended, but if you need to preserve the current default behavior, you can pass use_reentrant=True. Refer to docs for more details on the differences between the two variants.\n",
      "  return fn(*args, **kwargs)\n",
      "/usr/local/lib/python3.10/dist-packages/torch/_dynamo/eval_frame.py:632: UserWarning: torch.utils.checkpoint: the use_reentrant parameter should be passed explicitly. In version 2.5 we will raise an exception if use_reentrant is not passed. use_reentrant=False is recommended, but if you need to preserve the current default behavior, you can pass use_reentrant=True. Refer to docs for more details on the differences between the two variants.\n",
      "  return fn(*args, **kwargs)\n",
      "/usr/local/lib/python3.10/dist-packages/torch/_dynamo/eval_frame.py:632: UserWarning: torch.utils.checkpoint: the use_reentrant parameter should be passed explicitly. In version 2.5 we will raise an exception if use_reentrant is not passed. use_reentrant=False is recommended, but if you need to preserve the current default behavior, you can pass use_reentrant=True. Refer to docs for more details on the differences between the two variants.\n",
      "  return fn(*args, **kwargs)\n"
     ]
    },
    {
     "data": {
      "text/html": [
       "\n",
       "    <div>\n",
       "      \n",
       "      <progress value='1000' max='1000' style='width:300px; height:20px; vertical-align: middle;'></progress>\n",
       "      [1000/1000 1:33:51, Epoch 0/1]\n",
       "    </div>\n",
       "    <table border=\"1\" class=\"dataframe\">\n",
       "  <thead>\n",
       " <tr style=\"text-align: left;\">\n",
       "      <th>Step</th>\n",
       "      <th>Training Loss</th>\n",
       "      <th>Validation Loss</th>\n",
       "    </tr>\n",
       "  </thead>\n",
       "  <tbody>\n",
       "    <tr>\n",
       "      <td>100</td>\n",
       "      <td>2.734000</td>\n",
       "      <td>1.773516</td>\n",
       "    </tr>\n",
       "    <tr>\n",
       "      <td>200</td>\n",
       "      <td>1.941200</td>\n",
       "      <td>1.671020</td>\n",
       "    </tr>\n",
       "    <tr>\n",
       "      <td>300</td>\n",
       "      <td>1.732600</td>\n",
       "      <td>1.626275</td>\n",
       "    </tr>\n",
       "    <tr>\n",
       "      <td>400</td>\n",
       "      <td>1.736700</td>\n",
       "      <td>1.612259</td>\n",
       "    </tr>\n",
       "    <tr>\n",
       "      <td>500</td>\n",
       "      <td>1.698800</td>\n",
       "      <td>1.604090</td>\n",
       "    </tr>\n",
       "    <tr>\n",
       "      <td>600</td>\n",
       "      <td>1.693700</td>\n",
       "      <td>1.597604</td>\n",
       "    </tr>\n",
       "    <tr>\n",
       "      <td>700</td>\n",
       "      <td>1.725300</td>\n",
       "      <td>1.590135</td>\n",
       "    </tr>\n",
       "    <tr>\n",
       "      <td>800</td>\n",
       "      <td>1.635300</td>\n",
       "      <td>1.588409</td>\n",
       "    </tr>\n",
       "    <tr>\n",
       "      <td>900</td>\n",
       "      <td>1.678500</td>\n",
       "      <td>1.585238</td>\n",
       "    </tr>\n",
       "    <tr>\n",
       "      <td>1000</td>\n",
       "      <td>1.662600</td>\n",
       "      <td>1.583956</td>\n",
       "    </tr>\n",
       "  </tbody>\n",
       "</table><p>"
      ],
      "text/plain": [
       "<IPython.core.display.HTML object>"
      ]
     },
     "metadata": {},
     "output_type": "display_data"
    },
    {
     "name": "stderr",
     "output_type": "stream",
     "text": [
      "Passing a tuple of `past_key_values` is deprecated and will be removed in Transformers v4.48.0. You should pass an instance of `EncoderDecoderCache` instead, e.g. `past_key_values=EncoderDecoderCache.from_legacy_cache(past_key_values)`.\n",
      "/usr/local/lib/python3.10/dist-packages/torch/_dynamo/eval_frame.py:632: UserWarning: torch.utils.checkpoint: the use_reentrant parameter should be passed explicitly. In version 2.5 we will raise an exception if use_reentrant is not passed. use_reentrant=False is recommended, but if you need to preserve the current default behavior, you can pass use_reentrant=True. Refer to docs for more details on the differences between the two variants.\n",
      "  return fn(*args, **kwargs)\n",
      "/usr/local/lib/python3.10/dist-packages/torch/_dynamo/eval_frame.py:632: UserWarning: torch.utils.checkpoint: the use_reentrant parameter should be passed explicitly. In version 2.5 we will raise an exception if use_reentrant is not passed. use_reentrant=False is recommended, but if you need to preserve the current default behavior, you can pass use_reentrant=True. Refer to docs for more details on the differences between the two variants.\n",
      "  return fn(*args, **kwargs)\n",
      "/usr/local/lib/python3.10/dist-packages/torch/_dynamo/eval_frame.py:632: UserWarning: torch.utils.checkpoint: the use_reentrant parameter should be passed explicitly. In version 2.5 we will raise an exception if use_reentrant is not passed. use_reentrant=False is recommended, but if you need to preserve the current default behavior, you can pass use_reentrant=True. Refer to docs for more details on the differences between the two variants.\n",
      "  return fn(*args, **kwargs)\n",
      "/usr/local/lib/python3.10/dist-packages/torch/_dynamo/eval_frame.py:632: UserWarning: torch.utils.checkpoint: the use_reentrant parameter should be passed explicitly. In version 2.5 we will raise an exception if use_reentrant is not passed. use_reentrant=False is recommended, but if you need to preserve the current default behavior, you can pass use_reentrant=True. Refer to docs for more details on the differences between the two variants.\n",
      "  return fn(*args, **kwargs)\n"
     ]
    },
    {
     "data": {
      "text/plain": [
       "TrainOutput(global_step=1000, training_loss=1.9694009246826172, metrics={'train_runtime': 5633.6003, 'train_samples_per_second': 2.84, 'train_steps_per_second': 0.178, 'total_flos': 5347108454400000.0, 'train_loss': 1.9694009246826172, 'epoch': 0.05572660527452319})"
      ]
     },
     "execution_count": 23,
     "metadata": {},
     "output_type": "execute_result"
    }
   ],
   "source": [
    "# Defining the Data Collator\n",
    "collator = DataCollatorForSeq2Seq(tokenizer, model=model, padding=True)\n",
    "\n",
    "# Defining the traier\n",
    "trainer = Seq2SeqTrainer(\n",
    "    model=model,\n",
    "    args=training_args,\n",
    "    train_dataset=train_dataset,\n",
    "    eval_dataset=val_dataset,\n",
    "    data_collator=collator,\n",
    ")\n",
    "# Train the model\n",
    "trainer.train()"
   ]
  },
  {
   "cell_type": "markdown",
   "metadata": {},
   "source": [
    "# **Evaluating the model**"
   ]
  },
  {
   "cell_type": "code",
   "execution_count": 24,
   "metadata": {
    "execution": {
     "iopub.execute_input": "2025-03-21T17:12:14.206723Z",
     "iopub.status.busy": "2025-03-21T17:12:14.206442Z",
     "iopub.status.idle": "2025-03-21T17:18:57.790537Z",
     "shell.execute_reply": "2025-03-21T17:18:57.789882Z",
     "shell.execute_reply.started": "2025-03-21T17:12:14.206701Z"
    },
    "trusted": true
   },
   "outputs": [
    {
     "data": {
      "text/html": [
       "\n",
       "    <div>\n",
       "      \n",
       "      <progress value='3342' max='3342' style='width:300px; height:20px; vertical-align: middle;'></progress>\n",
       "      [3342/3342 06:43]\n",
       "    </div>\n",
       "    "
      ],
      "text/plain": [
       "<IPython.core.display.HTML object>"
      ]
     },
     "metadata": {},
     "output_type": "display_data"
    },
    {
     "name": "stdout",
     "output_type": "stream",
     "text": [
      "Evaluation results: {'eval_loss': 1.5839563608169556, 'eval_runtime': 403.5765, 'eval_samples_per_second': 33.124, 'eval_steps_per_second': 8.281, 'epoch': 0.05572660527452319}\n"
     ]
    }
   ],
   "source": [
    "# Evaluating the model\n",
    "eval_results = trainer.evaluate()\n",
    "print(\"Evaluation results:\", eval_results)"
   ]
  },
  {
   "cell_type": "markdown",
   "metadata": {},
   "source": [
    "# **Saving the final model**"
   ]
  },
  {
   "cell_type": "code",
   "execution_count": 25,
   "metadata": {
    "execution": {
     "iopub.execute_input": "2025-03-21T17:19:06.989650Z",
     "iopub.status.busy": "2025-03-21T17:19:06.989341Z",
     "iopub.status.idle": "2025-03-21T17:19:09.755869Z",
     "shell.execute_reply": "2025-03-21T17:19:09.755129Z",
     "shell.execute_reply.started": "2025-03-21T17:19:06.989623Z"
    },
    "trusted": true
   },
   "outputs": [
    {
     "data": {
      "text/plain": [
       "('t5-qlora-finetuned/tokenizer_config.json',\n",
       " 't5-qlora-finetuned/special_tokens_map.json',\n",
       " 't5-qlora-finetuned/spiece.model',\n",
       " 't5-qlora-finetuned/added_tokens.json')"
      ]
     },
     "execution_count": 25,
     "metadata": {},
     "output_type": "execute_result"
    }
   ],
   "source": [
    "trainer.save_model(\"t5-qlora-finetuned\")\n",
    "tokenizer.save_pretrained(\"t5-qlora-finetuned\")"
   ]
  },
  {
   "cell_type": "markdown",
   "metadata": {},
   "source": [
    "# Testing the model on new unseen articles"
   ]
  },
  {
   "cell_type": "code",
   "execution_count": 26,
   "metadata": {
    "execution": {
     "iopub.execute_input": "2025-03-21T17:19:26.697208Z",
     "iopub.status.busy": "2025-03-21T17:19:26.696926Z",
     "iopub.status.idle": "2025-03-21T17:19:26.701689Z",
     "shell.execute_reply": "2025-03-21T17:19:26.700758Z",
     "shell.execute_reply.started": "2025-03-21T17:19:26.697187Z"
    },
    "trusted": true
   },
   "outputs": [],
   "source": [
    "# Testing the model on new unseen articles\n",
    "def generate_summary(text):\n",
    "    inputs = tokenizer(\"summarize: \" + text, return_tensors=\"pt\").to(device)\n",
    "    with torch.no_grad():\n",
    "        outputs = model.generate(**inputs, max_length=128, temperature=0.7, top_p=0.9, do_sample=True)\n",
    "    return tokenizer.decode(outputs[0], skip_special_tokens=True)"
   ]
  },
  {
   "cell_type": "code",
   "execution_count": null,
   "metadata": {
    "execution": {
     "iopub.execute_input": "2025-03-21T17:19:28.716232Z",
     "iopub.status.busy": "2025-03-21T17:19:28.715926Z",
     "iopub.status.idle": "2025-03-21T17:19:29.507810Z",
     "shell.execute_reply": "2025-03-21T17:19:29.506927Z",
     "shell.execute_reply.started": "2025-03-21T17:19:28.716206Z"
    },
    "trusted": true
   },
   "outputs": [
    {
     "name": "stdout",
     "output_type": "stream",
     "text": [
      "Generated Summary: Data breach was confirmed by the company in a statement released early this morning. Cybersecurity experts are calling it one of the most significant breaches in recent years.\n"
     ]
    }
   ],
   "source": [
    "test_text = \"summarize: A massive data breach at one of the UK's largest telecommunications companies has exposed the personal information of over 10 million customers, including names, addresses, and payment details. The breach, which occurred last week, was confirmed by the company in a statement released early this morning. Cybersecurity experts are calling it one of the most significant breaches in recent years, with fears that the stolen data could be used for identity theft and financial fraud.\"\n",
    "print(\"Generated Summary:\", generate_summary(test_text))"
   ]
  },
  {
   "cell_type": "code",
   "execution_count": 28,
   "metadata": {
    "execution": {
     "iopub.execute_input": "2025-03-21T17:20:05.902020Z",
     "iopub.status.busy": "2025-03-21T17:20:05.901675Z",
     "iopub.status.idle": "2025-03-21T17:20:06.481053Z",
     "shell.execute_reply": "2025-03-21T17:20:06.480330Z",
     "shell.execute_reply.started": "2025-03-21T17:20:05.901993Z"
    },
    "trusted": true
   },
   "outputs": [
    {
     "name": "stdout",
     "output_type": "stream",
     "text": [
      "Generated Summary: a new fish was found at depths of 2,000 meters in the Pacific Ocean. It has adapted to the extreme pressure and darkness by developing organs that produce light.\n"
     ]
    }
   ],
   "source": [
    "test_text = \"summarize:Scientists have recently discovered a new species of deep-sea fish that emits bioluminescent light to communicate and attract prey. This species, found at depths of over 2,000 meters in the Pacific Ocean, has adapted to the extreme pressure and darkness by developing specialized organs that produce light. Researchers believe that understanding these adaptations could lead to advancements in biotechnology, particularly in medical imaging and bioengineering. The discovery highlights the vast, unexplored biodiversity of the deep sea and the importance of preserving oceanic ecosystems from human-induced threats such as pollution and climate change.\"\n",
    "print(\"Generated Summary:\", generate_summary(test_text))"
   ]
  },
  {
   "cell_type": "code",
   "execution_count": 30,
   "metadata": {
    "execution": {
     "iopub.execute_input": "2025-03-21T17:20:34.401076Z",
     "iopub.status.busy": "2025-03-21T17:20:34.400733Z",
     "iopub.status.idle": "2025-03-21T17:20:34.720375Z",
     "shell.execute_reply": "2025-03-21T17:20:34.719699Z",
     "shell.execute_reply.started": "2025-03-21T17:20:34.401053Z"
    },
    "trusted": true
   },
   "outputs": [
    {
     "name": "stdout",
     "output_type": "stream",
     "text": [
      "Generated Summary: John Harper was part of a small team conducting exploratory drilling when the shaft gave way.\n"
     ]
    }
   ],
   "source": [
    "test_text = \"summarize: A 45-year-old man has been rescued after being trapped for over 12 hours in a collapsed mine shaft in rural Wyoming. The man, identified as John Harper, was part of a small team conducting exploratory drilling when the shaft gave way, burying him under several feet of rubble. Emergency crews worked tirelessly through the night to free him, using specialized equipment to clear debris and stabilize the area.\"\n",
    "print(\"Generated Summary:\", generate_summary(test_text))"
   ]
  },
  {
   "cell_type": "markdown",
   "metadata": {},
   "source": [
    "# The model evaluation (ROUGE and BLUE scores)"
   ]
  },
  {
   "cell_type": "code",
   "execution_count": 31,
   "metadata": {
    "execution": {
     "iopub.execute_input": "2025-03-21T17:20:35.938403Z",
     "iopub.status.busy": "2025-03-21T17:20:35.938100Z",
     "iopub.status.idle": "2025-03-21T17:20:37.623000Z",
     "shell.execute_reply": "2025-03-21T17:20:37.622011Z",
     "shell.execute_reply.started": "2025-03-21T17:20:35.938375Z"
    },
    "trusted": true
   },
   "outputs": [
    {
     "data": {
      "application/vnd.jupyter.widget-view+json": {
       "model_id": "aa5ee8a1602546499d61e912c68ff5e8",
       "version_major": 2,
       "version_minor": 0
      },
      "text/plain": [
       "Downloading builder script:   0%|          | 0.00/6.27k [00:00<?, ?B/s]"
      ]
     },
     "metadata": {},
     "output_type": "display_data"
    },
    {
     "data": {
      "application/vnd.jupyter.widget-view+json": {
       "model_id": "3a4185467906433bb159f3bfef1b114b",
       "version_major": 2,
       "version_minor": 0
      },
      "text/plain": [
       "Downloading builder script:   0%|          | 0.00/5.94k [00:00<?, ?B/s]"
      ]
     },
     "metadata": {},
     "output_type": "display_data"
    },
    {
     "data": {
      "application/vnd.jupyter.widget-view+json": {
       "model_id": "af5c38a2d8d34d04898f9052f057a85b",
       "version_major": 2,
       "version_minor": 0
      },
      "text/plain": [
       "Downloading extra modules:   0%|          | 0.00/1.55k [00:00<?, ?B/s]"
      ]
     },
     "metadata": {},
     "output_type": "display_data"
    },
    {
     "data": {
      "application/vnd.jupyter.widget-view+json": {
       "model_id": "1e0b95bd6bf14e35a03d02aa5afeafc3",
       "version_major": 2,
       "version_minor": 0
      },
      "text/plain": [
       "Downloading extra modules:   0%|          | 0.00/3.34k [00:00<?, ?B/s]"
      ]
     },
     "metadata": {},
     "output_type": "display_data"
    }
   ],
   "source": [
    "from evaluate import load\n",
    "from tabulate import tabulate  # For better table formatting to print the rouge and blue models in a table form\n",
    "# Loading the evaluation metrics\n",
    "rouge = load(\"rouge\")\n",
    "bleu = load(\"bleu\")"
   ]
  },
  {
   "cell_type": "markdown",
   "metadata": {},
   "source": [
    "# Evaluating the model on only 100 samples of the test dataset to optimize the memory usage."
   ]
  },
  {
   "cell_type": "code",
   "execution_count": 32,
   "metadata": {
    "execution": {
     "iopub.execute_input": "2025-03-21T17:20:39.906535Z",
     "iopub.status.busy": "2025-03-21T17:20:39.906260Z",
     "iopub.status.idle": "2025-03-21T17:22:14.929696Z",
     "shell.execute_reply": "2025-03-21T17:22:14.928921Z",
     "shell.execute_reply.started": "2025-03-21T17:20:39.906515Z"
    },
    "trusted": true
   },
   "outputs": [
    {
     "name": "stderr",
     "output_type": "stream",
     "text": [
      "Token indices sequence length is longer than the specified maximum sequence length for this model (1079 > 512). Running this sequence through the model will result in indexing errors\n"
     ]
    },
    {
     "name": "stdout",
     "output_type": "stream",
     "text": [
      "\n",
      "ROUGE & BLEU Scores:\n",
      " +----------+----------+\n",
      "| Metric   |    Score |\n",
      "+==========+==========+\n",
      "| ROUGE-1  | 0.34913  |\n",
      "+----------+----------+\n",
      "| ROUGE-2  | 0.150141 |\n",
      "+----------+----------+\n",
      "| ROUGE-L  | 0.256049 |\n",
      "+----------+----------+\n",
      "| BLEU     | 0.10512  |\n",
      "+----------+----------+\n"
     ]
    }
   ],
   "source": [
    "def evaluate_model(model, tokenizer, test_dataset, num_samples=100):\n",
    "    model.eval()\n",
    "    predictions, references = [], []\n",
    "    \n",
    "    for i in range(min(num_samples, len(test_dataset))):\n",
    "        input_text = \"summarize: \" + tokenizer.decode(test_dataset[i][\"input_ids\"], skip_special_tokens=True)\n",
    "        reference_text = tokenizer.decode(test_dataset[i][\"labels\"], skip_special_tokens=True)\n",
    "        inputs = tokenizer(input_text, return_tensors=\"pt\").to(device)\n",
    "        \n",
    "        with torch.no_grad():\n",
    "            outputs = model.generate(**inputs, max_length=128, temperature=0.7, top_p=0.9, do_sample=True)\n",
    "        \n",
    "        predictions.append(tokenizer.decode(outputs[0], skip_special_tokens=True))\n",
    "        references.append([reference_text]) \n",
    "\n",
    "    # The ROUGE scores\n",
    "    rouge = load(\"rouge\")\n",
    "    rouge_scores = rouge.compute(predictions=predictions, references=[r[0] for r in references])\n",
    "\n",
    "    # The BLEU scores\n",
    "    bleu = load(\"bleu\")\n",
    "    bleu_scores = bleu.compute(predictions=predictions, references=references)  # Correctly formatted\n",
    "\n",
    "    # Printing the results\n",
    "    print(\"\\nROUGE & BLEU Scores:\\n\", tabulate([\n",
    "    [\"ROUGE-1\", rouge_scores[\"rouge1\"]],\n",
    "    [\"ROUGE-2\", rouge_scores[\"rouge2\"]],\n",
    "    [\"ROUGE-L\", rouge_scores[\"rougeL\"]],\n",
    "    [\"BLEU\", bleu_scores[\"bleu\"]]\n",
    "    ], headers=[\"Metric\", \"Score\"], tablefmt=\"grid\"))\n",
    "\n",
    "\n",
    "\n",
    "# Running the evaluation\n",
    "evaluate_model(model, tokenizer, test_dataset)"
   ]
  },
  {
   "cell_type": "markdown",
   "metadata": {},
   "source": [
    "# Evaluating the model again on a bigger number of samples (on 2000 saples) of the test dataset. "
   ]
  },
  {
   "cell_type": "code",
   "execution_count": 33,
   "metadata": {
    "execution": {
     "iopub.execute_input": "2025-03-21T17:23:19.405680Z",
     "iopub.status.busy": "2025-03-21T17:23:19.405373Z",
     "iopub.status.idle": "2025-03-21T17:55:57.816958Z",
     "shell.execute_reply": "2025-03-21T17:55:57.816037Z",
     "shell.execute_reply.started": "2025-03-21T17:23:19.405657Z"
    },
    "trusted": true
   },
   "outputs": [
    {
     "name": "stdout",
     "output_type": "stream",
     "text": [
      "\n",
      "ROUGE & BLEU Scores:\n",
      " +----------+----------+\n",
      "| Metric   |    Score |\n",
      "+==========+==========+\n",
      "| ROUGE-1  | 0.358656 |\n",
      "+----------+----------+\n",
      "| ROUGE-2  | 0.157494 |\n",
      "+----------+----------+\n",
      "| ROUGE-L  | 0.26219  |\n",
      "+----------+----------+\n",
      "| BLEU     | 0.123555 |\n",
      "+----------+----------+\n"
     ]
    }
   ],
   "source": [
    "def evaluate_model(model, tokenizer, test_dataset, num_samples=2000):\n",
    "    model.eval()\n",
    "    predictions, references = [], []\n",
    "    \n",
    "    for i in range(min(num_samples, len(test_dataset))):\n",
    "        input_text = \"summarize: \" + tokenizer.decode(test_dataset[i][\"input_ids\"], skip_special_tokens=True)\n",
    "        reference_text = tokenizer.decode(test_dataset[i][\"labels\"], skip_special_tokens=True)\n",
    "        inputs = tokenizer(input_text, return_tensors=\"pt\").to(device)\n",
    "        \n",
    "        with torch.no_grad():\n",
    "            outputs = model.generate(**inputs, max_length=128, temperature=0.7, top_p=0.9, do_sample=True)\n",
    "        \n",
    "        predictions.append(tokenizer.decode(outputs[0], skip_special_tokens=True))\n",
    "        references.append([reference_text])  # Ensure reference is wrapped in a list\n",
    "\n",
    "    # Compute ROUGE scores\n",
    "    rouge = load(\"rouge\")\n",
    "    rouge_scores = rouge.compute(predictions=predictions, references=[r[0] for r in references])\n",
    "\n",
    "    # Compute BLEU scores\n",
    "    bleu = load(\"bleu\")\n",
    "    bleu_scores = bleu.compute(predictions=predictions, references=references)  # Correctly formatted\n",
    "\n",
    "    # Print results\n",
    "    print(\"\\nROUGE & BLEU Scores:\\n\", tabulate([\n",
    "    [\"ROUGE-1\", rouge_scores[\"rouge1\"]],\n",
    "    [\"ROUGE-2\", rouge_scores[\"rouge2\"]],\n",
    "    [\"ROUGE-L\", rouge_scores[\"rougeL\"]],\n",
    "    [\"BLEU\", bleu_scores[\"bleu\"]]\n",
    "    ], headers=[\"Metric\", \"Score\"], tablefmt=\"grid\"))\n",
    "\n",
    "\n",
    "# Run evaluation\n",
    "evaluate_model(model, tokenizer, test_dataset)"
   ]
  },
  {
   "cell_type": "code",
   "execution_count": null,
   "metadata": {
    "trusted": true
   },
   "outputs": [],
   "source": []
  }
 ],
 "metadata": {
  "kaggle": {
   "accelerator": "gpu",
   "dataSources": [
    {
     "datasetId": 1654566,
     "sourceId": 2734496,
     "sourceType": "datasetVersion"
    }
   ],
   "dockerImageVersionId": 30919,
   "isGpuEnabled": true,
   "isInternetEnabled": true,
   "language": "python",
   "sourceType": "notebook"
  },
  "kernelspec": {
   "display_name": "Python 3",
   "language": "python",
   "name": "python3"
  },
  "language_info": {
   "codemirror_mode": {
    "name": "ipython",
    "version": 3
   },
   "file_extension": ".py",
   "mimetype": "text/x-python",
   "name": "python",
   "nbconvert_exporter": "python",
   "pygments_lexer": "ipython3",
   "version": "3.10.12"
  }
 },
 "nbformat": 4,
 "nbformat_minor": 4
}
